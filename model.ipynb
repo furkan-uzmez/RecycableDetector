{
 "cells": [
  {
   "cell_type": "code",
   "execution_count": 1,
   "metadata": {},
   "outputs": [],
   "source": [
    "import os"
   ]
  },
  {
   "cell_type": "code",
   "execution_count": null,
   "metadata": {},
   "outputs": [],
   "source": [
    "#import kagglehub\n",
    "#kagglehub.dataset_download('techsash/waste-classification-data')"
   ]
  },
  {
   "cell_type": "code",
   "execution_count": 8,
   "metadata": {},
   "outputs": [
    {
     "name": "stdout",
     "output_type": "stream",
     "text": [
      "['O', 'R']\n"
     ]
    }
   ],
   "source": [
    "garbage_type = os.listdir('DATASET/TRAIN')\n",
    "print(garbage_type)"
   ]
  },
  {
   "cell_type": "code",
   "execution_count": 14,
   "metadata": {},
   "outputs": [
    {
     "name": "stdout",
     "output_type": "stream",
     "text": [
      "O type contain 12565 images\n",
      "R type contain 9999 images\n"
     ]
    }
   ],
   "source": [
    "for type in garbage_type:\n",
    "    folder_path = os.path.join('DATASET/TRAIN',type)\n",
    "    if os.path.isdir(folder_path):\n",
    "        print(f\"{type} type contain {len(os.listdir(folder_path))} images\")"
   ]
  },
  {
   "cell_type": "code",
   "execution_count": null,
   "metadata": {},
   "outputs": [],
   "source": []
  }
 ],
 "metadata": {
  "kernelspec": {
   "display_name": "Python 3",
   "language": "python",
   "name": "python3"
  },
  "language_info": {
   "codemirror_mode": {
    "name": "ipython",
    "version": 3
   },
   "file_extension": ".py",
   "mimetype": "text/x-python",
   "name": "python",
   "nbconvert_exporter": "python",
   "pygments_lexer": "ipython3",
   "version": "3.12.6"
  }
 },
 "nbformat": 4,
 "nbformat_minor": 2
}
