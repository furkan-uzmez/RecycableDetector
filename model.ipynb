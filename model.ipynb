{
 "cells": [
  {
   "cell_type": "code",
   "execution_count": 9,
   "metadata": {},
   "outputs": [],
   "source": [
    "import os"
   ]
  },
  {
   "cell_type": "code",
   "execution_count": 10,
   "metadata": {},
   "outputs": [],
   "source": [
    "#import kagglehub\n",
    "#kagglehub.dataset_download('techsash/waste-classification-data')"
   ]
  },
  {
   "cell_type": "code",
   "execution_count": 11,
   "metadata": {},
   "outputs": [
    {
     "name": "stdout",
     "output_type": "stream",
     "text": [
      "['O', 'R']\n"
     ]
    }
   ],
   "source": [
    "garbage_type = os.listdir('DATASET/TRAIN')\n",
    "print(garbage_type)"
   ]
  },
  {
   "cell_type": "code",
   "execution_count": 23,
   "metadata": {},
   "outputs": [
    {
     "name": "stdout",
     "output_type": "stream",
     "text": [
      "O type contain 12565 images\n",
      "R type contain 9999 images\n",
      "['O/O_1.jpg', 'O/O_10.jpg', 'O/O_100.jpg', 'O/O_1000.jpg', 'O/O_10000.jpg']\n",
      "['O', 'O', 'O', 'O', 'O']\n",
      "22564\n",
      "22564\n"
     ]
    }
   ],
   "source": [
    "x_train = []\n",
    "y_train = []\n",
    "for type in garbage_type:\n",
    "    folder_path = os.path.join('DATASET/TRAIN',type)\n",
    "    if os.path.isdir(folder_path):\n",
    "        print(f\"{type} type contain {len(os.listdir(folder_path))} images\")\n",
    "        for i in os.listdir(folder_path):\n",
    "            x_train.append(type + '/' + i)\n",
    "            y_train.append(type)   \n",
    "print(x_train[:5])\n",
    "print(y_train[:5])\n",
    "print(len(x_train))  \n",
    "print(len(y_train)) "
   ]
  },
  {
   "cell_type": "code",
   "execution_count": 24,
   "metadata": {},
   "outputs": [
    {
     "name": "stdout",
     "output_type": "stream",
     "text": [
      "22564\n",
      "Found 22564 validated image filenames belonging to 2 classes.\n"
     ]
    }
   ],
   "source": [
    "import pandas as pd\n",
    "from tensorflow.keras.preprocessing.image import ImageDataGenerator\n",
    "\n",
    "# create DataFrame  \n",
    "data = {\n",
    "    'filepath': x_train,   # image paths\n",
    "    'label': y_train  \n",
    "}\n",
    "train_df = pd.DataFrame(data)\n",
    "\n",
    "#train_df = train_df.sample(n=10000, random_state=42)  #choose 10000 random example \n",
    "print(len(train_df))\n",
    "\n",
    "\n",
    "train_data_gen = ImageDataGenerator(rescale=1./255)  # normalize images to range [0, 1] \n",
    "\n",
    "# load data from flow_from_dataframe \n",
    "train_generator = train_data_gen.flow_from_dataframe(\n",
    "    dataframe=train_df,         # DataFrame\n",
    "    x_col='filepath',           \n",
    "    y_col='label',              \n",
    "    target_size=(384, 384),     # rescale images to 384x384 \n",
    "    batch_size=128,              \n",
    "    class_mode='categorical',   # Label type\n",
    "    seed=42,                     \n",
    "    shuffle=True,                # shuffle data\n",
    "    directory = 'D:/Visual Studio/YeniKlasor/recycable/DATASET/TRAIN' # dataset path\n",
    ")"
   ]
  }
 ],
 "metadata": {
  "kernelspec": {
   "display_name": "Python 3",
   "language": "python",
   "name": "python3"
  },
  "language_info": {
   "codemirror_mode": {
    "name": "ipython",
    "version": 3
   },
   "file_extension": ".py",
   "mimetype": "text/x-python",
   "name": "python",
   "nbconvert_exporter": "python",
   "pygments_lexer": "ipython3",
   "version": "3.12.6"
  }
 },
 "nbformat": 4,
 "nbformat_minor": 2
}
